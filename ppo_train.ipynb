{
 "cells": [
  {
   "cell_type": "code",
   "execution_count": 1,
   "id": "initial_id",
   "metadata": {},
   "outputs": [
    {
     "name": "stderr",
     "output_type": "stream",
     "text": [
      "/home/ubuntu/.local/lib/python3.10/site-packages/tqdm/auto.py:21: TqdmWarning: IProgress not found. Please update jupyter and ipywidgets. See https://ipywidgets.readthedocs.io/en/stable/user_install.html\n",
      "  from .autonotebook import tqdm as notebook_tqdm\n",
      "2025-04-08 11:08:46.338050: E external/local_xla/xla/stream_executor/cuda/cuda_fft.cc:467] Unable to register cuFFT factory: Attempting to register factory for plugin cuFFT when one has already been registered\n",
      "WARNING: All log messages before absl::InitializeLog() is called are written to STDERR\n",
      "E0000 00:00:1744110526.356342    4951 cuda_dnn.cc:8579] Unable to register cuDNN factory: Attempting to register factory for plugin cuDNN when one has already been registered\n",
      "E0000 00:00:1744110526.362389    4951 cuda_blas.cc:1407] Unable to register cuBLAS factory: Attempting to register factory for plugin cuBLAS when one has already been registered\n",
      "W0000 00:00:1744110526.378264    4951 computation_placer.cc:177] computation placer already registered. Please check linkage and avoid linking the same target more than once.\n",
      "W0000 00:00:1744110526.378283    4951 computation_placer.cc:177] computation placer already registered. Please check linkage and avoid linking the same target more than once.\n",
      "W0000 00:00:1744110526.378285    4951 computation_placer.cc:177] computation placer already registered. Please check linkage and avoid linking the same target more than once.\n",
      "W0000 00:00:1744110526.378287    4951 computation_placer.cc:177] computation placer already registered. Please check linkage and avoid linking the same target more than once.\n",
      "2025-04-08 11:08:46.383227: I tensorflow/core/platform/cpu_feature_guard.cc:210] This TensorFlow binary is optimized to use available CPU instructions in performance-critical operations.\n",
      "To enable the following instructions: AVX2 FMA, in other operations, rebuild TensorFlow with the appropriate compiler flags.\n"
     ]
    }
   ],
   "source": [
    "import torch\n",
    "from datasets import load_dataset\n",
    "from tqdm import tqdm\n",
    "from transformers import AutoTokenizer\n",
    "from trl import AutoModelForCausalLMWithValueHead\n",
    "from trl.core import LengthSampler\n",
    "\n",
    "tqdm.pandas()\n",
    "from transformers import pipeline\n",
    "from trl import PPOConfig, PPOTrainer"
   ]
  },
  {
   "cell_type": "markdown",
   "id": "f98b410ee40a2781",
   "metadata": {},
   "source": [
    "Reward model and PPO configuration"
   ]
  },
  {
   "cell_type": "code",
   "execution_count": 2,
   "id": "da14bee436f4be4d",
   "metadata": {},
   "outputs": [
    {
     "name": "stderr",
     "output_type": "stream",
     "text": [
      "Device set to use cuda:0\n",
      "/home/ubuntu/.local/lib/python3.10/site-packages/trl/trainer/ppo_config.py:207: FutureWarning: `PPOConfig` is deprecated and will be removed in the future. Please use `PPOv2Config` with `PPOv2Trainer` instead.\n",
      "  warnings.warn(\n"
     ]
    }
   ],
   "source": [
    "device = \"cuda:0\" if torch.cuda.is_available() else \"cpu\"\n",
    "\n",
    "reward_pipe = pipeline(\"text-classification\",\n",
    "                       model=\"argilla/roberta-base-reward-model-falcon-dolly\",\n",
    "                       tokenizer=\"argilla/roberta-base-reward-model-falcon-dolly\",\n",
    "                       truncation=True, device=device)\n",
    "\n",
    "config = PPOConfig(\n",
    "    model_name=\"gpt2\",\n",
    "    learning_rate=1.41e-5,\n",
    "    log_with=\"wandb\"\n",
    ")"
   ]
  },
  {
   "cell_type": "markdown",
   "id": "410529944ece4c44",
   "metadata": {},
   "source": [
    "Report to wandb"
   ]
  },
  {
   "cell_type": "code",
   "execution_count": 3,
   "id": "994d87fcc4dd64c0",
   "metadata": {},
   "outputs": [
    {
     "name": "stderr",
     "output_type": "stream",
     "text": [
      "\u001b[34m\u001b[1mwandb\u001b[0m: \u001b[32m\u001b[41mERROR\u001b[0m Failed to detect the name of this notebook. You can set it manually with the WANDB_NOTEBOOK_NAME environment variable to enable code saving.\n",
      "\u001b[34m\u001b[1mwandb\u001b[0m: Using wandb-core as the SDK backend.  Please refer to https://wandb.me/wandb-core for more information.\n",
      "\u001b[34m\u001b[1mwandb\u001b[0m: Currently logged in as: \u001b[33mangus27\u001b[0m (\u001b[33mvaler\u001b[0m) to \u001b[32mhttps://api.wandb.ai\u001b[0m. Use \u001b[1m`wandb login --relogin`\u001b[0m to force relogin\n"
     ]
    },
    {
     "data": {
      "text/html": [
       "Tracking run with wandb version 0.19.9"
      ],
      "text/plain": [
       "<IPython.core.display.HTML object>"
      ]
     },
     "metadata": {},
     "output_type": "display_data"
    },
    {
     "data": {
      "text/html": [
       "Run data is saved locally in <code>/home/ubuntu/wandb/run-20250408_110850-7j6llbl7</code>"
      ],
      "text/plain": [
       "<IPython.core.display.HTML object>"
      ]
     },
     "metadata": {},
     "output_type": "display_data"
    },
    {
     "data": {
      "text/html": [
       "Syncing run <strong><a href='https://wandb.ai/valer/uncategorized/runs/7j6llbl7' target=\"_blank\">noble-jazz-4</a></strong> to <a href='https://wandb.ai/valer/uncategorized' target=\"_blank\">Weights & Biases</a> (<a href='https://wandb.me/developer-guide' target=\"_blank\">docs</a>)<br>"
      ],
      "text/plain": [
       "<IPython.core.display.HTML object>"
      ]
     },
     "metadata": {},
     "output_type": "display_data"
    },
    {
     "data": {
      "text/html": [
       " View project at <a href='https://wandb.ai/valer/uncategorized' target=\"_blank\">https://wandb.ai/valer/uncategorized</a>"
      ],
      "text/plain": [
       "<IPython.core.display.HTML object>"
      ]
     },
     "metadata": {},
     "output_type": "display_data"
    },
    {
     "data": {
      "text/html": [
       " View run at <a href='https://wandb.ai/valer/uncategorized/runs/7j6llbl7' target=\"_blank\">https://wandb.ai/valer/uncategorized/runs/7j6llbl7</a>"
      ],
      "text/plain": [
       "<IPython.core.display.HTML object>"
      ]
     },
     "metadata": {},
     "output_type": "display_data"
    },
    {
     "data": {
      "text/html": [
       "<button onClick=\"this.nextSibling.style.display='block';this.style.display='none';\">Display W&B run</button><iframe src='https://wandb.ai/valer/uncategorized/runs/7j6llbl7?jupyter=true' style='border:none;width:100%;height:420px;display:none;'></iframe>"
      ],
      "text/plain": [
       "<wandb.sdk.wandb_run.Run at 0x7a54623085b0>"
      ]
     },
     "execution_count": 3,
     "metadata": {},
     "output_type": "execute_result"
    }
   ],
   "source": [
    "import wandb\n",
    "\n",
    "wandb.init()"
   ]
  },
  {
   "cell_type": "markdown",
   "id": "7280f0030d5bc170",
   "metadata": {},
   "source": [
    "Model and reference model"
   ]
  },
  {
   "cell_type": "code",
   "execution_count": 4,
   "id": "8143b14b0e51bf1d",
   "metadata": {},
   "outputs": [],
   "source": [
    "model = AutoModelForCausalLMWithValueHead.from_pretrained(config.model_name).to(device)\n",
    "ref_model = AutoModelForCausalLMWithValueHead.from_pretrained(config.model_name).to(device)\n",
    "tokenizer = AutoTokenizer.from_pretrained(config.model_name)\n",
    "tokenizer.pad_token = tokenizer.eos_token"
   ]
  },
  {
   "cell_type": "markdown",
   "id": "1caef0007fdf60d1",
   "metadata": {},
   "source": [
    "Load dataset"
   ]
  },
  {
   "cell_type": "code",
   "execution_count": 5,
   "id": "425430e6a202a15",
   "metadata": {},
   "outputs": [],
   "source": [
    "dataset = load_dataset(\"argilla/databricks-dolly-15k-curated-en\", split=\"train\")"
   ]
  },
  {
   "cell_type": "markdown",
   "id": "c914a2b575a5af75",
   "metadata": {},
   "source": [
    "Preprocess dataset"
   ]
  },
  {
   "cell_type": "code",
   "execution_count": 6,
   "id": "badda1c77322ae74",
   "metadata": {},
   "outputs": [
    {
     "name": "stderr",
     "output_type": "stream",
     "text": [
      "Map: 100%|██████████| 15015/15015 [00:02<00:00, 5553.51 examples/s]\n",
      "Map: 100%|██████████| 15015/15015 [00:09<00:00, 1555.92 examples/s]\n"
     ]
    }
   ],
   "source": [
    "template = \"\"\"\\\n",
    "### Instruction: {instruction}\n",
    "\n",
    "### Context: {context}\n",
    "\n",
    "### Response: {response}\"\"\"\n",
    "\n",
    "def formatting_func(sample):\n",
    "    instruction = sample[\"new-instruction\"]\n",
    "    context = sample[\"new-context\"]\n",
    "\n",
    "    if instruction[\"status\"][0] == \"submitted\":\n",
    "        text = template.format(\n",
    "            instruction=instruction[\"value\"][0],\n",
    "            context=context[\"value\"][0][:500],\n",
    "            response=\"\"\n",
    "        ).strip()\n",
    "        return {\n",
    "            \"text\": text,\n",
    "            \"input_text\": text\n",
    "        }\n",
    "    return None\n",
    "\n",
    "formatted_dataset = dataset.map(formatting_func, load_from_cache_file=False).filter(lambda x: x is not None)\n",
    "\n",
    "def tokenize_func(example):\n",
    "    input_text = example[\"text\"]\n",
    "    kwargs = {\n",
    "        \"padding\": \"max_length\",\n",
    "        \"truncation\": True,\n",
    "        \"max_length\": 50,\n",
    "        \"return_tensors\": \"pt\"\n",
    "    }\n",
    "    data = tokenizer(input_text, **kwargs)\n",
    "    return {\n",
    "        \"input_ids\": data[\"input_ids\"].squeeze(),\n",
    "        \"query\": tokenizer.decode(data[\"input_ids\"].squeeze())\n",
    "    }\n",
    "\n",
    "\n",
    "tokenized_dataset = formatted_dataset.map(tokenize_func, load_from_cache_file=False)\n",
    "tokenized_dataset.set_format(type=\"torch\")"
   ]
  },
  {
   "cell_type": "markdown",
   "id": "d3bf25be850926ad",
   "metadata": {},
   "source": [
    "Define generation params and PPOTrainer"
   ]
  },
  {
   "cell_type": "code",
   "execution_count": 7,
   "id": "35497f8b159e5e2e",
   "metadata": {},
   "outputs": [
    {
     "name": "stderr",
     "output_type": "stream",
     "text": [
      "/home/ubuntu/.local/lib/python3.10/site-packages/trl/trainer/ppo_trainer.py:193: FutureWarning: `PPOTrainer` is deprecated and will be removed in trl v0.12. Please use `PPOv2Trainer` instead.\n",
      "  warnings.warn(\n"
     ]
    },
    {
     "data": {
      "text/html": [],
      "text/plain": [
       "<IPython.core.display.HTML object>"
      ]
     },
     "metadata": {},
     "output_type": "display_data"
    },
    {
     "data": {
      "text/html": [
       " View run <strong style=\"color:#cdcd00\">noble-jazz-4</strong> at: <a href='https://wandb.ai/valer/uncategorized/runs/7j6llbl7' target=\"_blank\">https://wandb.ai/valer/uncategorized/runs/7j6llbl7</a><br> View project at: <a href='https://wandb.ai/valer/uncategorized' target=\"_blank\">https://wandb.ai/valer/uncategorized</a><br>Synced 5 W&B file(s), 0 media file(s), 0 artifact file(s) and 0 other file(s)"
      ],
      "text/plain": [
       "<IPython.core.display.HTML object>"
      ]
     },
     "metadata": {},
     "output_type": "display_data"
    },
    {
     "data": {
      "text/html": [
       "Find logs at: <code>./wandb/run-20250408_110850-7j6llbl7/logs</code>"
      ],
      "text/plain": [
       "<IPython.core.display.HTML object>"
      ]
     },
     "metadata": {},
     "output_type": "display_data"
    },
    {
     "data": {
      "text/html": [
       "Tracking run with wandb version 0.19.9"
      ],
      "text/plain": [
       "<IPython.core.display.HTML object>"
      ]
     },
     "metadata": {},
     "output_type": "display_data"
    },
    {
     "data": {
      "text/html": [
       "Run data is saved locally in <code>/home/ubuntu/wandb/run-20250408_110907-q32c3yap</code>"
      ],
      "text/plain": [
       "<IPython.core.display.HTML object>"
      ]
     },
     "metadata": {},
     "output_type": "display_data"
    },
    {
     "data": {
      "text/html": [
       "Syncing run <strong><a href='https://wandb.ai/valer/trl/runs/q32c3yap' target=\"_blank\">charmed-armadillo-1</a></strong> to <a href='https://wandb.ai/valer/trl' target=\"_blank\">Weights & Biases</a> (<a href='https://wandb.me/developer-guide' target=\"_blank\">docs</a>)<br>"
      ],
      "text/plain": [
       "<IPython.core.display.HTML object>"
      ]
     },
     "metadata": {},
     "output_type": "display_data"
    },
    {
     "data": {
      "text/html": [
       " View project at <a href='https://wandb.ai/valer/trl' target=\"_blank\">https://wandb.ai/valer/trl</a>"
      ],
      "text/plain": [
       "<IPython.core.display.HTML object>"
      ]
     },
     "metadata": {},
     "output_type": "display_data"
    },
    {
     "data": {
      "text/html": [
       " View run at <a href='https://wandb.ai/valer/trl/runs/q32c3yap' target=\"_blank\">https://wandb.ai/valer/trl/runs/q32c3yap</a>"
      ],
      "text/plain": [
       "<IPython.core.display.HTML object>"
      ]
     },
     "metadata": {},
     "output_type": "display_data"
    }
   ],
   "source": [
    "output_min_length = 4\n",
    "output_max_length = 16\n",
    "output_length_sampler = LengthSampler(output_min_length, output_max_length)\n",
    "\n",
    "generation_kwargs = {\n",
    "    \"min_length\": -1,\n",
    "    \"top_k\": 0.0,\n",
    "    \"top_p\": 1.0,\n",
    "    \"do_sample\": True,\n",
    "    \"pad_token_id\": tokenizer.eos_token_id,\n",
    "}\n",
    "\n",
    "\n",
    "def collator(data):\n",
    "    return dict((key, [d[key] for d in data]) for key in data[0])\n",
    "\n",
    "ppo_trainer = PPOTrainer(config, model, ref_model, tokenizer, dataset=tokenized_dataset, data_collator=collator)"
   ]
  },
  {
   "cell_type": "markdown",
   "id": "15560bf49e73e52c",
   "metadata": {},
   "source": [
    "Training loop"
   ]
  },
  {
   "cell_type": "code",
   "execution_count": 8,
   "id": "384016933acc45b2",
   "metadata": {},
   "outputs": [
    {
     "name": "stderr",
     "output_type": "stream",
     "text": [
      "The attention mask is not set and cannot be inferred from input because pad token is same as eos token. As a consequence, you may observe unexpected behavior. Please pass your input's `attention_mask` to obtain reliable results.\n",
      "You seem to be using the pipelines sequentially on GPU. In order to maximize efficiency please use a dataset\n",
      "/home/ubuntu/.local/lib/python3.10/site-packages/trl/trainer/ppo_trainer.py:1246: UserWarning: The average ratio of batch (30.35) exceeds threshold 10.00. Skipping batch.\n",
      "  warnings.warn(\n",
      "/home/ubuntu/.local/lib/python3.10/site-packages/trl/trainer/ppo_trainer.py:1246: UserWarning: The average ratio of batch (113.51) exceeds threshold 10.00. Skipping batch.\n",
      "  warnings.warn(\n",
      "100%|██████████| 117/117 [24:34<00:00, 12.60s/it]\n"
     ]
    }
   ],
   "source": [
    "for epoch, batch in enumerate(tqdm(ppo_trainer.dataloader)):\n",
    "    query_tensors = batch[\"input_ids\"]\n",
    "\n",
    "    response_tensors = []\n",
    "    for query in query_tensors:\n",
    "        gen_len = output_length_sampler()\n",
    "        generation_kwargs[\"max_new_tokens\"] = gen_len\n",
    "        response = ppo_trainer.generate(query, **generation_kwargs).squeeze()\n",
    "        response_len = len(response) - len(query)\n",
    "        response_tensors.append(response[-response_len:])\n",
    "    batch[\"response\"] = [tokenizer.decode(r.squeeze()) for r in response_tensors]\n",
    "\n",
    "    texts = [q + r for q, r in zip(batch[\"query\"], batch[\"response\"])]\n",
    "    pipe_outputs = reward_pipe(texts)\n",
    "    rewards = [torch.tensor(output[\"score\"]) for output in pipe_outputs]\n",
    "\n",
    "    stats = ppo_trainer.step(query_tensors, response_tensors, rewards)\n",
    "    ppo_trainer.log_stats(stats, batch, rewards)"
   ]
  },
  {
   "cell_type": "markdown",
   "id": "d069c373a08c7f9b",
   "metadata": {},
   "source": [
    "Save model and tokenizer"
   ]
  },
  {
   "cell_type": "code",
   "execution_count": 9,
   "id": "fbcdf26126e1f884",
   "metadata": {},
   "outputs": [
    {
     "data": {
      "text/plain": [
       "('gpt2-dolly/tokenizer_config.json',\n",
       " 'gpt2-dolly/special_tokens_map.json',\n",
       " 'gpt2-dolly/vocab.json',\n",
       " 'gpt2-dolly/merges.txt',\n",
       " 'gpt2-dolly/added_tokens.json',\n",
       " 'gpt2-dolly/tokenizer.json')"
      ]
     },
     "execution_count": 9,
     "metadata": {},
     "output_type": "execute_result"
    }
   ],
   "source": [
    "model.save_pretrained(\"gpt2-dolly\")\n",
    "tokenizer.save_pretrained(\"gpt2-dolly\")"
   ]
  },
  {
   "cell_type": "markdown",
   "id": "6ff23ce2d2350073",
   "metadata": {},
   "source": [
    "Generate response with the reference model"
   ]
  },
  {
   "cell_type": "code",
   "execution_count": 10,
   "id": "4bae08be9448c246",
   "metadata": {},
   "outputs": [
    {
     "name": "stderr",
     "output_type": "stream",
     "text": [
      "Setting `pad_token_id` to `eos_token_id`:50256 for open-end generation.\n"
     ]
    },
    {
     "name": "stdout",
     "output_type": "stream",
     "text": [
      "*** REFERENCE MODEL ***\n",
      "### Instruction: Is a toad a frog?\n",
      "\n",
      "### Context: Both frogs and toads are amphibians in the order Anura, which means \"without a tail.\" Toads are a sub-classification of frogs, meaning that all toads are frogs, but not all frogs are toads.\n",
      "\n",
      "### Response: The frog is a frog.\n",
      "\n",
      "### Context\n"
     ]
    }
   ],
   "source": [
    "tokenizer = AutoTokenizer.from_pretrained(\"gpt2\")\n",
    "tokenizer.pad_token = tokenizer.eos_token\n",
    "\n",
    "inputs = template.format(\n",
    "    instruction=\"Is a toad a frog?\",\n",
    "    context=\"Both frogs and toads are amphibians in the order Anura, which means \\\"without a tail.\\\" Toads are a sub-classification of frogs, meaning that all toads are frogs, but not all frogs are toads.\",\n",
    "    response=\"\"\n",
    ").strip()\n",
    "encoding = tokenizer([inputs], return_tensors=\"pt\").to(device)\n",
    "outputs = ref_model.generate(**encoding, max_new_tokens=10)\n",
    "output_text = tokenizer.decode(outputs[0])\n",
    "print(\"*** REFERENCE MODEL ***\")\n",
    "print(output_text)"
   ]
  },
  {
   "cell_type": "markdown",
   "id": "8e71a09b75c14ad6",
   "metadata": {},
   "source": [
    "Generate response with the new model"
   ]
  },
  {
   "cell_type": "code",
   "execution_count": 11,
   "id": "ad9b7a68f7019b6a",
   "metadata": {},
   "outputs": [
    {
     "name": "stderr",
     "output_type": "stream",
     "text": [
      "Some weights of the model checkpoint at gpt2-dolly were not used when initializing GPT2LMHeadModel: ['v_head.summary.bias', 'v_head.summary.weight']\n",
      "- This IS expected if you are initializing GPT2LMHeadModel from the checkpoint of a model trained on another task or with another architecture (e.g. initializing a BertForSequenceClassification model from a BertForPreTraining model).\n",
      "- This IS NOT expected if you are initializing GPT2LMHeadModel from the checkpoint of a model that you expect to be exactly identical (initializing a BertForSequenceClassification model from a BertForSequenceClassification model).\n",
      "Setting `pad_token_id` to `eos_token_id`:50256 for open-end generation.\n"
     ]
    },
    {
     "name": "stdout",
     "output_type": "stream",
     "text": [
      "*** MODEL AFTER PPO FINE-TUNING ***\n",
      "### Instruction: Is a toad a frog?\n",
      "\n",
      "### Context: Both frogs and toads are amphibians in the order Anura, which means \"without a tail.\" Toads are a sub-classification of frogs, meaning that all toads are frogs, but not all frogs are toads.\n",
      "\n",
      "### Response: The toad is a small, slender frog that\n"
     ]
    }
   ],
   "source": [
    "model = AutoModelForCausalLMWithValueHead.from_pretrained(\"gpt2-dolly\").to(device)\n",
    "tokenizer = AutoTokenizer.from_pretrained(\"gpt2-dolly\")\n",
    "tokenizer.pad_token = tokenizer.eos_token\n",
    "\n",
    "inputs = template.format(\n",
    "    instruction=\"Is a toad a frog?\",\n",
    "    context=\"Both frogs and toads are amphibians in the order Anura, which means \\\"without a tail.\\\" Toads are a sub-classification of frogs, meaning that all toads are frogs, but not all frogs are toads.\",\n",
    "    response=\"\"\n",
    ").strip()\n",
    "encoding = tokenizer([inputs], return_tensors=\"pt\").to(device)\n",
    "outputs = model.generate(**encoding, max_new_tokens=10)\n",
    "output_text = tokenizer.decode(outputs[0])\n",
    "print(\"*** MODEL AFTER PPO FINE-TUNING ***\")\n",
    "print(output_text)"
   ]
  }
 ],
 "metadata": {
  "kernelspec": {
   "display_name": "Python 3 (ipykernel)",
   "language": "python",
   "name": "python3"
  },
  "language_info": {
   "codemirror_mode": {
    "name": "ipython",
    "version": 3
   },
   "file_extension": ".py",
   "mimetype": "text/x-python",
   "name": "python",
   "nbconvert_exporter": "python",
   "pygments_lexer": "ipython3",
   "version": "3.10.12"
  }
 },
 "nbformat": 4,
 "nbformat_minor": 5
}
